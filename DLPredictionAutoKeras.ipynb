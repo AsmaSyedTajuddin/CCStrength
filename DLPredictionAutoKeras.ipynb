{
  "nbformat": 4,
  "nbformat_minor": 5,
  "metadata": {
    "kernelspec": {
      "display_name": "Python 3",
      "language": "python",
      "name": "python3"
    },
    "language_info": {
      "codemirror_mode": {
        "name": "ipython",
        "version": 3
      },
      "file_extension": ".py",
      "mimetype": "text/x-python",
      "name": "python",
      "nbconvert_exporter": "python",
      "pygments_lexer": "ipython3",
      "version": "3.8.8"
    },
    "colab": {
      "name": "DLPredictionAutoKeras.ipynb",
      "provenance": [],
      "collapsed_sections": []
    }
  },
  "cells": [
    {
      "cell_type": "markdown",
      "metadata": {
        "id": "07d2a34b"
      },
      "source": [
        "Concrete Compressive Strength Prediction using DL Auto Keras(Auto ML)"
      ],
      "id": "07d2a34b"
    },
    {
      "cell_type": "code",
      "metadata": {
        "id": "9fe7c1b3"
      },
      "source": [
        "import pandas as pd\n",
        "import numpy as np\n",
        "from matplotlib import pyplot as plt\n",
        "%matplotlib inline\n",
        "import matplotlib "
      ],
      "id": "9fe7c1b3",
      "execution_count": 1,
      "outputs": []
    },
    {
      "cell_type": "code",
      "metadata": {
        "id": "2a242a44",
        "colab": {
          "base_uri": "https://localhost:8080/",
          "height": 270
        },
        "outputId": "fd4f496b-1242-410c-cf06-a3c55bebd7c1"
      },
      "source": [
        "df = pd.read_csv(\"concrete_data.csv\")\n",
        "df.head()"
      ],
      "id": "2a242a44",
      "execution_count": 2,
      "outputs": [
        {
          "output_type": "execute_result",
          "data": {
            "text/plain": [
              "   cement  blast_furnace_slag  fly_ash  water  superplasticizer  \\\n",
              "0   540.0                 0.0      0.0  162.0               2.5   \n",
              "1   540.0                 0.0      0.0  162.0               2.5   \n",
              "2   332.5               142.5      0.0  228.0               0.0   \n",
              "3   332.5               142.5      0.0  228.0               0.0   \n",
              "4   198.6               132.4      0.0  192.0               0.0   \n",
              "\n",
              "   coarse_aggregate  fine_aggregate   age  concrete_compressive_strength  \n",
              "0            1040.0            676.0   28                          79.99  \n",
              "1            1055.0            676.0   28                          61.89  \n",
              "2             932.0            594.0  270                          40.27  \n",
              "3             932.0            594.0  365                          41.05  \n",
              "4             978.4            825.5  360                          44.30  "
            ],
            "text/html": [
              "\n",
              "  <div id=\"df-13d435dc-1684-401f-aa1d-f9afdfb6a399\">\n",
              "    <div class=\"colab-df-container\">\n",
              "      <div>\n",
              "<style scoped>\n",
              "    .dataframe tbody tr th:only-of-type {\n",
              "        vertical-align: middle;\n",
              "    }\n",
              "\n",
              "    .dataframe tbody tr th {\n",
              "        vertical-align: top;\n",
              "    }\n",
              "\n",
              "    .dataframe thead th {\n",
              "        text-align: right;\n",
              "    }\n",
              "</style>\n",
              "<table border=\"1\" class=\"dataframe\">\n",
              "  <thead>\n",
              "    <tr style=\"text-align: right;\">\n",
              "      <th></th>\n",
              "      <th>cement</th>\n",
              "      <th>blast_furnace_slag</th>\n",
              "      <th>fly_ash</th>\n",
              "      <th>water</th>\n",
              "      <th>superplasticizer</th>\n",
              "      <th>coarse_aggregate</th>\n",
              "      <th>fine_aggregate</th>\n",
              "      <th>age</th>\n",
              "      <th>concrete_compressive_strength</th>\n",
              "    </tr>\n",
              "  </thead>\n",
              "  <tbody>\n",
              "    <tr>\n",
              "      <th>0</th>\n",
              "      <td>540.0</td>\n",
              "      <td>0.0</td>\n",
              "      <td>0.0</td>\n",
              "      <td>162.0</td>\n",
              "      <td>2.5</td>\n",
              "      <td>1040.0</td>\n",
              "      <td>676.0</td>\n",
              "      <td>28</td>\n",
              "      <td>79.99</td>\n",
              "    </tr>\n",
              "    <tr>\n",
              "      <th>1</th>\n",
              "      <td>540.0</td>\n",
              "      <td>0.0</td>\n",
              "      <td>0.0</td>\n",
              "      <td>162.0</td>\n",
              "      <td>2.5</td>\n",
              "      <td>1055.0</td>\n",
              "      <td>676.0</td>\n",
              "      <td>28</td>\n",
              "      <td>61.89</td>\n",
              "    </tr>\n",
              "    <tr>\n",
              "      <th>2</th>\n",
              "      <td>332.5</td>\n",
              "      <td>142.5</td>\n",
              "      <td>0.0</td>\n",
              "      <td>228.0</td>\n",
              "      <td>0.0</td>\n",
              "      <td>932.0</td>\n",
              "      <td>594.0</td>\n",
              "      <td>270</td>\n",
              "      <td>40.27</td>\n",
              "    </tr>\n",
              "    <tr>\n",
              "      <th>3</th>\n",
              "      <td>332.5</td>\n",
              "      <td>142.5</td>\n",
              "      <td>0.0</td>\n",
              "      <td>228.0</td>\n",
              "      <td>0.0</td>\n",
              "      <td>932.0</td>\n",
              "      <td>594.0</td>\n",
              "      <td>365</td>\n",
              "      <td>41.05</td>\n",
              "    </tr>\n",
              "    <tr>\n",
              "      <th>4</th>\n",
              "      <td>198.6</td>\n",
              "      <td>132.4</td>\n",
              "      <td>0.0</td>\n",
              "      <td>192.0</td>\n",
              "      <td>0.0</td>\n",
              "      <td>978.4</td>\n",
              "      <td>825.5</td>\n",
              "      <td>360</td>\n",
              "      <td>44.30</td>\n",
              "    </tr>\n",
              "  </tbody>\n",
              "</table>\n",
              "</div>\n",
              "      <button class=\"colab-df-convert\" onclick=\"convertToInteractive('df-13d435dc-1684-401f-aa1d-f9afdfb6a399')\"\n",
              "              title=\"Convert this dataframe to an interactive table.\"\n",
              "              style=\"display:none;\">\n",
              "        \n",
              "  <svg xmlns=\"http://www.w3.org/2000/svg\" height=\"24px\"viewBox=\"0 0 24 24\"\n",
              "       width=\"24px\">\n",
              "    <path d=\"M0 0h24v24H0V0z\" fill=\"none\"/>\n",
              "    <path d=\"M18.56 5.44l.94 2.06.94-2.06 2.06-.94-2.06-.94-.94-2.06-.94 2.06-2.06.94zm-11 1L8.5 8.5l.94-2.06 2.06-.94-2.06-.94L8.5 2.5l-.94 2.06-2.06.94zm10 10l.94 2.06.94-2.06 2.06-.94-2.06-.94-.94-2.06-.94 2.06-2.06.94z\"/><path d=\"M17.41 7.96l-1.37-1.37c-.4-.4-.92-.59-1.43-.59-.52 0-1.04.2-1.43.59L10.3 9.45l-7.72 7.72c-.78.78-.78 2.05 0 2.83L4 21.41c.39.39.9.59 1.41.59.51 0 1.02-.2 1.41-.59l7.78-7.78 2.81-2.81c.8-.78.8-2.07 0-2.86zM5.41 20L4 18.59l7.72-7.72 1.47 1.35L5.41 20z\"/>\n",
              "  </svg>\n",
              "      </button>\n",
              "      \n",
              "  <style>\n",
              "    .colab-df-container {\n",
              "      display:flex;\n",
              "      flex-wrap:wrap;\n",
              "      gap: 12px;\n",
              "    }\n",
              "\n",
              "    .colab-df-convert {\n",
              "      background-color: #E8F0FE;\n",
              "      border: none;\n",
              "      border-radius: 50%;\n",
              "      cursor: pointer;\n",
              "      display: none;\n",
              "      fill: #1967D2;\n",
              "      height: 32px;\n",
              "      padding: 0 0 0 0;\n",
              "      width: 32px;\n",
              "    }\n",
              "\n",
              "    .colab-df-convert:hover {\n",
              "      background-color: #E2EBFA;\n",
              "      box-shadow: 0px 1px 2px rgba(60, 64, 67, 0.3), 0px 1px 3px 1px rgba(60, 64, 67, 0.15);\n",
              "      fill: #174EA6;\n",
              "    }\n",
              "\n",
              "    [theme=dark] .colab-df-convert {\n",
              "      background-color: #3B4455;\n",
              "      fill: #D2E3FC;\n",
              "    }\n",
              "\n",
              "    [theme=dark] .colab-df-convert:hover {\n",
              "      background-color: #434B5C;\n",
              "      box-shadow: 0px 1px 3px 1px rgba(0, 0, 0, 0.15);\n",
              "      filter: drop-shadow(0px 1px 2px rgba(0, 0, 0, 0.3));\n",
              "      fill: #FFFFFF;\n",
              "    }\n",
              "  </style>\n",
              "\n",
              "      <script>\n",
              "        const buttonEl =\n",
              "          document.querySelector('#df-13d435dc-1684-401f-aa1d-f9afdfb6a399 button.colab-df-convert');\n",
              "        buttonEl.style.display =\n",
              "          google.colab.kernel.accessAllowed ? 'block' : 'none';\n",
              "\n",
              "        async function convertToInteractive(key) {\n",
              "          const element = document.querySelector('#df-13d435dc-1684-401f-aa1d-f9afdfb6a399');\n",
              "          const dataTable =\n",
              "            await google.colab.kernel.invokeFunction('convertToInteractive',\n",
              "                                                     [key], {});\n",
              "          if (!dataTable) return;\n",
              "\n",
              "          const docLinkHtml = 'Like what you see? Visit the ' +\n",
              "            '<a target=\"_blank\" href=https://colab.research.google.com/notebooks/data_table.ipynb>data table notebook</a>'\n",
              "            + ' to learn more about interactive tables.';\n",
              "          element.innerHTML = '';\n",
              "          dataTable['output_type'] = 'display_data';\n",
              "          await google.colab.output.renderOutput(dataTable, element);\n",
              "          const docLink = document.createElement('div');\n",
              "          docLink.innerHTML = docLinkHtml;\n",
              "          element.appendChild(docLink);\n",
              "        }\n",
              "      </script>\n",
              "    </div>\n",
              "  </div>\n",
              "  "
            ]
          },
          "metadata": {},
          "execution_count": 2
        }
      ]
    },
    {
      "cell_type": "code",
      "metadata": {
        "id": "c77710c8",
        "colab": {
          "base_uri": "https://localhost:8080/"
        },
        "outputId": "c00a4539-50a7-4535-9e26-26f14b00369d"
      },
      "source": [
        "df.shape"
      ],
      "id": "c77710c8",
      "execution_count": 3,
      "outputs": [
        {
          "output_type": "execute_result",
          "data": {
            "text/plain": [
              "(1030, 9)"
            ]
          },
          "metadata": {},
          "execution_count": 3
        }
      ]
    },
    {
      "cell_type": "markdown",
      "metadata": {
        "id": "6dcef635"
      },
      "source": [
        "## Data Analysis"
      ],
      "id": "6dcef635"
    },
    {
      "cell_type": "code",
      "metadata": {
        "id": "86a8f6ec",
        "colab": {
          "base_uri": "https://localhost:8080/",
          "height": 364
        },
        "outputId": "58927849-b596-40d6-c907-e95a74bd6b29"
      },
      "source": [
        "df.describe()"
      ],
      "id": "86a8f6ec",
      "execution_count": 4,
      "outputs": [
        {
          "output_type": "execute_result",
          "data": {
            "text/plain": [
              "            cement  blast_furnace_slag      fly_ash        water  \\\n",
              "count  1030.000000         1030.000000  1030.000000  1030.000000   \n",
              "mean    281.167864           73.895825    54.188350   181.567282   \n",
              "std     104.506364           86.279342    63.997004    21.354219   \n",
              "min     102.000000            0.000000     0.000000   121.800000   \n",
              "25%     192.375000            0.000000     0.000000   164.900000   \n",
              "50%     272.900000           22.000000     0.000000   185.000000   \n",
              "75%     350.000000          142.950000   118.300000   192.000000   \n",
              "max     540.000000          359.400000   200.100000   247.000000   \n",
              "\n",
              "       superplasticizer  coarse_aggregate  fine_aggregate           age  \\\n",
              "count       1030.000000       1030.000000      1030.000000  1030.000000   \n",
              "mean           6.204660        972.918932       773.580485    45.662136   \n",
              "std            5.973841         77.753954        80.175980    63.169912   \n",
              "min            0.000000        801.000000       594.000000     1.000000   \n",
              "25%            0.000000        932.000000       730.950000     7.000000   \n",
              "50%            6.400000        968.000000       779.500000    28.000000   \n",
              "75%           10.200000       1029.400000       824.000000    56.000000   \n",
              "max           32.200000       1145.000000       992.600000   365.000000   \n",
              "\n",
              "       concrete_compressive_strength  \n",
              "count                    1030.000000  \n",
              "mean                       35.817961  \n",
              "std                        16.705742  \n",
              "min                         2.330000  \n",
              "25%                        23.710000  \n",
              "50%                        34.445000  \n",
              "75%                        46.135000  \n",
              "max                        82.600000  "
            ],
            "text/html": [
              "\n",
              "  <div id=\"df-adb99f48-1c54-48e6-9733-14e1d4ebf4f9\">\n",
              "    <div class=\"colab-df-container\">\n",
              "      <div>\n",
              "<style scoped>\n",
              "    .dataframe tbody tr th:only-of-type {\n",
              "        vertical-align: middle;\n",
              "    }\n",
              "\n",
              "    .dataframe tbody tr th {\n",
              "        vertical-align: top;\n",
              "    }\n",
              "\n",
              "    .dataframe thead th {\n",
              "        text-align: right;\n",
              "    }\n",
              "</style>\n",
              "<table border=\"1\" class=\"dataframe\">\n",
              "  <thead>\n",
              "    <tr style=\"text-align: right;\">\n",
              "      <th></th>\n",
              "      <th>cement</th>\n",
              "      <th>blast_furnace_slag</th>\n",
              "      <th>fly_ash</th>\n",
              "      <th>water</th>\n",
              "      <th>superplasticizer</th>\n",
              "      <th>coarse_aggregate</th>\n",
              "      <th>fine_aggregate</th>\n",
              "      <th>age</th>\n",
              "      <th>concrete_compressive_strength</th>\n",
              "    </tr>\n",
              "  </thead>\n",
              "  <tbody>\n",
              "    <tr>\n",
              "      <th>count</th>\n",
              "      <td>1030.000000</td>\n",
              "      <td>1030.000000</td>\n",
              "      <td>1030.000000</td>\n",
              "      <td>1030.000000</td>\n",
              "      <td>1030.000000</td>\n",
              "      <td>1030.000000</td>\n",
              "      <td>1030.000000</td>\n",
              "      <td>1030.000000</td>\n",
              "      <td>1030.000000</td>\n",
              "    </tr>\n",
              "    <tr>\n",
              "      <th>mean</th>\n",
              "      <td>281.167864</td>\n",
              "      <td>73.895825</td>\n",
              "      <td>54.188350</td>\n",
              "      <td>181.567282</td>\n",
              "      <td>6.204660</td>\n",
              "      <td>972.918932</td>\n",
              "      <td>773.580485</td>\n",
              "      <td>45.662136</td>\n",
              "      <td>35.817961</td>\n",
              "    </tr>\n",
              "    <tr>\n",
              "      <th>std</th>\n",
              "      <td>104.506364</td>\n",
              "      <td>86.279342</td>\n",
              "      <td>63.997004</td>\n",
              "      <td>21.354219</td>\n",
              "      <td>5.973841</td>\n",
              "      <td>77.753954</td>\n",
              "      <td>80.175980</td>\n",
              "      <td>63.169912</td>\n",
              "      <td>16.705742</td>\n",
              "    </tr>\n",
              "    <tr>\n",
              "      <th>min</th>\n",
              "      <td>102.000000</td>\n",
              "      <td>0.000000</td>\n",
              "      <td>0.000000</td>\n",
              "      <td>121.800000</td>\n",
              "      <td>0.000000</td>\n",
              "      <td>801.000000</td>\n",
              "      <td>594.000000</td>\n",
              "      <td>1.000000</td>\n",
              "      <td>2.330000</td>\n",
              "    </tr>\n",
              "    <tr>\n",
              "      <th>25%</th>\n",
              "      <td>192.375000</td>\n",
              "      <td>0.000000</td>\n",
              "      <td>0.000000</td>\n",
              "      <td>164.900000</td>\n",
              "      <td>0.000000</td>\n",
              "      <td>932.000000</td>\n",
              "      <td>730.950000</td>\n",
              "      <td>7.000000</td>\n",
              "      <td>23.710000</td>\n",
              "    </tr>\n",
              "    <tr>\n",
              "      <th>50%</th>\n",
              "      <td>272.900000</td>\n",
              "      <td>22.000000</td>\n",
              "      <td>0.000000</td>\n",
              "      <td>185.000000</td>\n",
              "      <td>6.400000</td>\n",
              "      <td>968.000000</td>\n",
              "      <td>779.500000</td>\n",
              "      <td>28.000000</td>\n",
              "      <td>34.445000</td>\n",
              "    </tr>\n",
              "    <tr>\n",
              "      <th>75%</th>\n",
              "      <td>350.000000</td>\n",
              "      <td>142.950000</td>\n",
              "      <td>118.300000</td>\n",
              "      <td>192.000000</td>\n",
              "      <td>10.200000</td>\n",
              "      <td>1029.400000</td>\n",
              "      <td>824.000000</td>\n",
              "      <td>56.000000</td>\n",
              "      <td>46.135000</td>\n",
              "    </tr>\n",
              "    <tr>\n",
              "      <th>max</th>\n",
              "      <td>540.000000</td>\n",
              "      <td>359.400000</td>\n",
              "      <td>200.100000</td>\n",
              "      <td>247.000000</td>\n",
              "      <td>32.200000</td>\n",
              "      <td>1145.000000</td>\n",
              "      <td>992.600000</td>\n",
              "      <td>365.000000</td>\n",
              "      <td>82.600000</td>\n",
              "    </tr>\n",
              "  </tbody>\n",
              "</table>\n",
              "</div>\n",
              "      <button class=\"colab-df-convert\" onclick=\"convertToInteractive('df-adb99f48-1c54-48e6-9733-14e1d4ebf4f9')\"\n",
              "              title=\"Convert this dataframe to an interactive table.\"\n",
              "              style=\"display:none;\">\n",
              "        \n",
              "  <svg xmlns=\"http://www.w3.org/2000/svg\" height=\"24px\"viewBox=\"0 0 24 24\"\n",
              "       width=\"24px\">\n",
              "    <path d=\"M0 0h24v24H0V0z\" fill=\"none\"/>\n",
              "    <path d=\"M18.56 5.44l.94 2.06.94-2.06 2.06-.94-2.06-.94-.94-2.06-.94 2.06-2.06.94zm-11 1L8.5 8.5l.94-2.06 2.06-.94-2.06-.94L8.5 2.5l-.94 2.06-2.06.94zm10 10l.94 2.06.94-2.06 2.06-.94-2.06-.94-.94-2.06-.94 2.06-2.06.94z\"/><path d=\"M17.41 7.96l-1.37-1.37c-.4-.4-.92-.59-1.43-.59-.52 0-1.04.2-1.43.59L10.3 9.45l-7.72 7.72c-.78.78-.78 2.05 0 2.83L4 21.41c.39.39.9.59 1.41.59.51 0 1.02-.2 1.41-.59l7.78-7.78 2.81-2.81c.8-.78.8-2.07 0-2.86zM5.41 20L4 18.59l7.72-7.72 1.47 1.35L5.41 20z\"/>\n",
              "  </svg>\n",
              "      </button>\n",
              "      \n",
              "  <style>\n",
              "    .colab-df-container {\n",
              "      display:flex;\n",
              "      flex-wrap:wrap;\n",
              "      gap: 12px;\n",
              "    }\n",
              "\n",
              "    .colab-df-convert {\n",
              "      background-color: #E8F0FE;\n",
              "      border: none;\n",
              "      border-radius: 50%;\n",
              "      cursor: pointer;\n",
              "      display: none;\n",
              "      fill: #1967D2;\n",
              "      height: 32px;\n",
              "      padding: 0 0 0 0;\n",
              "      width: 32px;\n",
              "    }\n",
              "\n",
              "    .colab-df-convert:hover {\n",
              "      background-color: #E2EBFA;\n",
              "      box-shadow: 0px 1px 2px rgba(60, 64, 67, 0.3), 0px 1px 3px 1px rgba(60, 64, 67, 0.15);\n",
              "      fill: #174EA6;\n",
              "    }\n",
              "\n",
              "    [theme=dark] .colab-df-convert {\n",
              "      background-color: #3B4455;\n",
              "      fill: #D2E3FC;\n",
              "    }\n",
              "\n",
              "    [theme=dark] .colab-df-convert:hover {\n",
              "      background-color: #434B5C;\n",
              "      box-shadow: 0px 1px 3px 1px rgba(0, 0, 0, 0.15);\n",
              "      filter: drop-shadow(0px 1px 2px rgba(0, 0, 0, 0.3));\n",
              "      fill: #FFFFFF;\n",
              "    }\n",
              "  </style>\n",
              "\n",
              "      <script>\n",
              "        const buttonEl =\n",
              "          document.querySelector('#df-adb99f48-1c54-48e6-9733-14e1d4ebf4f9 button.colab-df-convert');\n",
              "        buttonEl.style.display =\n",
              "          google.colab.kernel.accessAllowed ? 'block' : 'none';\n",
              "\n",
              "        async function convertToInteractive(key) {\n",
              "          const element = document.querySelector('#df-adb99f48-1c54-48e6-9733-14e1d4ebf4f9');\n",
              "          const dataTable =\n",
              "            await google.colab.kernel.invokeFunction('convertToInteractive',\n",
              "                                                     [key], {});\n",
              "          if (!dataTable) return;\n",
              "\n",
              "          const docLinkHtml = 'Like what you see? Visit the ' +\n",
              "            '<a target=\"_blank\" href=https://colab.research.google.com/notebooks/data_table.ipynb>data table notebook</a>'\n",
              "            + ' to learn more about interactive tables.';\n",
              "          element.innerHTML = '';\n",
              "          dataTable['output_type'] = 'display_data';\n",
              "          await google.colab.output.renderOutput(dataTable, element);\n",
              "          const docLink = document.createElement('div');\n",
              "          docLink.innerHTML = docLinkHtml;\n",
              "          element.appendChild(docLink);\n",
              "        }\n",
              "      </script>\n",
              "    </div>\n",
              "  </div>\n",
              "  "
            ]
          },
          "metadata": {},
          "execution_count": 4
        }
      ]
    },
    {
      "cell_type": "code",
      "metadata": {
        "id": "3f7c43c8",
        "colab": {
          "base_uri": "https://localhost:8080/"
        },
        "outputId": "df04e080-c07c-43a3-fb46-256b2044c8ef"
      },
      "source": [
        "df.info()"
      ],
      "id": "3f7c43c8",
      "execution_count": 6,
      "outputs": [
        {
          "output_type": "stream",
          "name": "stdout",
          "text": [
            "<class 'pandas.core.frame.DataFrame'>\n",
            "RangeIndex: 1030 entries, 0 to 1029\n",
            "Data columns (total 9 columns):\n",
            " #   Column                         Non-Null Count  Dtype  \n",
            "---  ------                         --------------  -----  \n",
            " 0   cement                         1030 non-null   float64\n",
            " 1   blast_furnace_slag             1030 non-null   float64\n",
            " 2   fly_ash                        1030 non-null   float64\n",
            " 3   water                          1030 non-null   float64\n",
            " 4   superplasticizer               1030 non-null   float64\n",
            " 5   coarse_aggregate               1030 non-null   float64\n",
            " 6   fine_aggregate                 1030 non-null   float64\n",
            " 7   age                            1030 non-null   int64  \n",
            " 8   concrete_compressive_strength  1030 non-null   float64\n",
            "dtypes: float64(8), int64(1)\n",
            "memory usage: 72.5 KB\n"
          ]
        }
      ]
    },
    {
      "cell_type": "code",
      "metadata": {
        "id": "6e80cfbb",
        "colab": {
          "base_uri": "https://localhost:8080/"
        },
        "outputId": "ffe58832-9dc8-4256-dc5d-3910776aaa43"
      },
      "source": [
        "df.isna().sum()"
      ],
      "id": "6e80cfbb",
      "execution_count": 5,
      "outputs": [
        {
          "output_type": "execute_result",
          "data": {
            "text/plain": [
              "cement                           0\n",
              "blast_furnace_slag               0\n",
              "fly_ash                          0\n",
              "water                            0\n",
              "superplasticizer                 0\n",
              "coarse_aggregate                 0\n",
              "fine_aggregate                   0\n",
              "age                              0\n",
              "concrete_compressive_strength    0\n",
              "dtype: int64"
            ]
          },
          "metadata": {},
          "execution_count": 5
        }
      ]
    },
    {
      "cell_type": "markdown",
      "metadata": {
        "id": "037251a5"
      },
      "source": [
        "### Heatmap"
      ],
      "id": "037251a5"
    },
    {
      "cell_type": "code",
      "metadata": {
        "id": "838c88d4",
        "colab": {
          "base_uri": "https://localhost:8080/",
          "height": 762
        },
        "outputId": "7b8e50ca-1a99-4f87-9898-36249e0b0249"
      },
      "source": [
        "import seaborn as sns\n",
        "plt.figure(figsize=(10,10))\n",
        "sns.heatmap(df.corr(),annot=True)"
      ],
      "id": "838c88d4",
      "execution_count": 7,
      "outputs": [
        {
          "output_type": "execute_result",
          "data": {
            "text/plain": [
              "<matplotlib.axes._subplots.AxesSubplot at 0x7f32dd903ed0>"
            ]
          },
          "metadata": {},
          "execution_count": 7
        },
        {
          "output_type": "display_data",
          "data": {
            "text/plain": [
              "<Figure size 720x720 with 2 Axes>"
            ],
            "image/png": "[encoded data removed]"
          },
          "metadata": {
            "needs_background": "light"
          }
        }
      ]
    },
    {
      "cell_type": "markdown",
      "metadata": {
        "id": "c17bfee5"
      },
      "source": [
        "### Feature Engineering"
      ],
      "id": "c17bfee5"
    },
    {
      "cell_type": "code",
      "metadata": {
        "id": "1cf4cfc1",
        "colab": {
          "base_uri": "https://localhost:8080/"
        },
        "outputId": "11247f05-0236-484c-e327-c5be4000b77d"
      },
      "source": [
        "df.columns"
      ],
      "id": "1cf4cfc1",
      "execution_count": 15,
      "outputs": [
        {
          "output_type": "execute_result",
          "data": {
            "text/plain": [
              "Index(['cement', 'blast_furnace_slag', 'fly_ash', 'water', 'superplasticizer',\n",
              "       'coarse_aggregate', 'fine_aggregate ', 'age',\n",
              "       'concrete_compressive_strength'],\n",
              "      dtype='object')"
            ]
          },
          "metadata": {},
          "execution_count": 15
        }
      ]
    },
    {
      "cell_type": "code",
      "metadata": {
        "id": "6b10ce82"
      },
      "source": [
        "df.drop([\"blast_furnace_slag\"],axis=1,inplace=True)\n",
        "df.drop([\"coarse_aggregate\"],axis=1,inplace=True)\n",
        "df.drop([\"fine_aggregate \"],axis=1,inplace=True)"
      ],
      "id": "6b10ce82",
      "execution_count": 16,
      "outputs": []
    },
    {
      "cell_type": "code",
      "metadata": {
        "id": "d16c0143",
        "colab": {
          "base_uri": "https://localhost:8080/"
        },
        "outputId": "be058a6e-3429-43a3-ce0e-aa7464bbb441"
      },
      "source": [
        "df.columns"
      ],
      "id": "d16c0143",
      "execution_count": 17,
      "outputs": [
        {
          "output_type": "execute_result",
          "data": {
            "text/plain": [
              "Index(['cement', 'fly_ash', 'water', 'superplasticizer', 'age',\n",
              "       'concrete_compressive_strength'],\n",
              "      dtype='object')"
            ]
          },
          "metadata": {},
          "execution_count": 17
        }
      ]
    },
    {
      "cell_type": "code",
      "metadata": {
        "id": "d829ba0d",
        "colab": {
          "base_uri": "https://localhost:8080/",
          "height": 762
        },
        "outputId": "6b13b874-2a53-4861-e585-d92ea1899cbe"
      },
      "source": [
        "plt.figure(figsize=(10,10))\n",
        "sns.heatmap(df.corr(),annot=True)"
      ],
      "id": "d829ba0d",
      "execution_count": 18,
      "outputs": [
        {
          "output_type": "execute_result",
          "data": {
            "text/plain": [
              "<matplotlib.axes._subplots.AxesSubplot at 0x7f32c7ebaf50>"
            ]
          },
          "metadata": {},
          "execution_count": 18
        },
        {
          "output_type": "display_data",
          "data": {
            "text/plain": [
              "<Figure size 720x720 with 2 Axes>"
            ],
            "image/png": "[encoded data removed]"
          },
          "metadata": {
            "needs_background": "light"
          }
        }
      ]
    },
    {
      "cell_type": "markdown",
      "metadata": {
        "id": "fb2f2f12"
      },
      "source": [
        "### Splitting the Data"
      ],
      "id": "fb2f2f12"
    },
    {
      "cell_type": "code",
      "metadata": {
        "id": "5ead0279"
      },
      "source": [
        "x=df.drop([\"concrete_compressive_strength\"],axis=1)\n",
        "y=df[\"concrete_compressive_strength\"]"
      ],
      "id": "5ead0279",
      "execution_count": 19,
      "outputs": []
    },
    {
      "cell_type": "code",
      "metadata": {
        "id": "eb134e1b"
      },
      "source": [
        "from sklearn.model_selection import train_test_split"
      ],
      "id": "eb134e1b",
      "execution_count": 20,
      "outputs": []
    },
    {
      "cell_type": "code",
      "metadata": {
        "id": "707e6abb"
      },
      "source": [
        "x_train,x_test,y_train,y_test=train_test_split(x,y,test_size=0.3,random_state=42)"
      ],
      "id": "707e6abb",
      "execution_count": 21,
      "outputs": []
    },
    {
      "cell_type": "code",
      "metadata": {
        "id": "e71e18e3",
        "colab": {
          "base_uri": "https://localhost:8080/"
        },
        "outputId": "2fb21926-45e6-4b86-83c2-1cd2f99b7f9d"
      },
      "source": [
        "x_train.shape"
      ],
      "id": "e71e18e3",
      "execution_count": 22,
      "outputs": [
        {
          "output_type": "execute_result",
          "data": {
            "text/plain": [
              "(666, 5)"
            ]
          },
          "metadata": {},
          "execution_count": 22
        }
      ]
    },
    {
      "cell_type": "markdown",
      "metadata": {
        "id": "2e521b6c"
      },
      "source": [
        "## Model Building using DL"
      ],
      "id": "2e521b6c"
    },
    {
      "cell_type": "markdown",
      "metadata": {
        "id": "24c018ae"
      },
      "source": [
        "### We will be using Keras Sequential Model for this project"
      ],
      "id": "24c018ae"
    },
    {
      "cell_type": "code",
      "metadata": {
        "id": "c791d096"
      },
      "source": [
        "from tensorflow.keras import models,layers"
      ],
      "id": "c791d096",
      "execution_count": 23,
      "outputs": []
    },
    {
      "cell_type": "code",
      "metadata": {
        "id": "14f2cc86"
      },
      "source": [
        "model=models.Sequential()\n",
        "model.add(layers.Dropout(0.1))\n",
        "model.add(layers.Dense(100,activation='relu',input_shape=(x_train.iloc[1].shape)))\n",
        "model.add(layers.Dropout(0.7))\n",
        "model.add(layers.Dense(5,activation='tanh'))\n",
        "model.add(layers.Dropout(0.2))\n",
        "\n",
        "model.add(layers.Dense(1))\n",
        "model.compile(optimizer='rmsprop',loss='mse',metrics=['mae'])"
      ],
      "id": "14f2cc86",
      "execution_count": 24,
      "outputs": []
    },
    {
      "cell_type": "code",
      "metadata": {
        "id": "27d2fb98",
        "colab": {
          "base_uri": "https://localhost:8080/"
        },
        "outputId": "3d38dd2b-b2c3-4965-fe46-b7531ea38e9c"
      },
      "source": [
        "model.fit(x_train,y_train,epochs=100,batch_size=1,validation_data=(x_test,y_test))"
      ],
      "id": "27d2fb98",
      "execution_count": 25,
      "outputs": [
        {
          "output_type": "stream",
          "name": "stdout",
          "text": [
            "Epoch 1/100\n",
            "666/666 [==============================] - 2s 2ms/step - loss: 1465.3857 - mae: 34.2733 - val_loss: 1274.5288 - val_mae: 31.5716\n",
            "Epoch 2/100\n",
            "666/666 [==============================] - 1s 2ms/step - loss: 1311.2672 - mae: 31.9041 - val_loss: 1131.0123 - val_mae: 29.2494\n",
            "Epoch 3/100\n",
            "666/666 [==============================] - 1s 2ms/step - loss: 1140.0209 - mae: 29.1491 - val_loss: 981.4296 - val_mae: 26.6102\n",
            "Epoch 4/100\n",
            "666/666 [==============================] - 1s 2ms/step - loss: 980.3395 - mae: 26.4832 - val_loss: 842.0603 - val_mae: 23.9428\n",
            "Epoch 5/100\n",
            "666/666 [==============================] - 1s 2ms/step - loss: 846.9462 - mae: 23.9956 - val_loss: 720.0417 - val_mae: 21.5625\n",
            "Epoch 6/100\n",
            "666/666 [==============================] - 1s 2ms/step - loss: 715.0351 - mae: 21.6053 - val_loss: 617.0096 - val_mae: 19.6508\n",
            "Epoch 7/100\n",
            "666/666 [==============================] - 1s 2ms/step - loss: 623.7213 - mae: 20.1184 - val_loss: 532.2954 - val_mae: 18.0118\n",
            "Epoch 8/100\n",
            "666/666 [==============================] - 1s 2ms/step - loss: 553.3961 - mae: 18.6464 - val_loss: 466.0167 - val_mae: 16.6240\n",
            "Epoch 9/100\n",
            "666/666 [==============================] - 1s 2ms/step - loss: 493.0840 - mae: 17.4169 - val_loss: 415.2542 - val_mae: 15.5347\n",
            "Epoch 10/100\n",
            "666/666 [==============================] - 2s 3ms/step - loss: 445.0176 - mae: 16.5329 - val_loss: 376.3457 - val_mae: 14.7596\n",
            "Epoch 11/100\n",
            "666/666 [==============================] - 2s 3ms/step - loss: 406.7476 - mae: 15.9051 - val_loss: 347.0120 - val_mae: 14.2271\n",
            "Epoch 12/100\n",
            "666/666 [==============================] - 1s 2ms/step - loss: 392.3030 - mae: 15.4035 - val_loss: 326.5626 - val_mae: 13.8790\n",
            "Epoch 13/100\n",
            "666/666 [==============================] - 1s 2ms/step - loss: 375.8698 - mae: 15.2551 - val_loss: 312.2869 - val_mae: 13.6405\n",
            "Epoch 14/100\n",
            "666/666 [==============================] - 1s 2ms/step - loss: 366.6478 - mae: 15.1882 - val_loss: 302.0697 - val_mae: 13.4567\n",
            "Epoch 15/100\n",
            "666/666 [==============================] - 1s 2ms/step - loss: 347.7933 - mae: 14.6822 - val_loss: 294.9308 - val_mae: 13.3359\n",
            "Epoch 16/100\n",
            "666/666 [==============================] - 1s 2ms/step - loss: 342.1940 - mae: 14.6802 - val_loss: 290.3256 - val_mae: 13.2528\n",
            "Epoch 17/100\n",
            "666/666 [==============================] - 1s 2ms/step - loss: 334.8634 - mae: 14.4936 - val_loss: 286.4034 - val_mae: 13.1797\n",
            "Epoch 18/100\n",
            "666/666 [==============================] - 1s 2ms/step - loss: 343.2768 - mae: 14.6543 - val_loss: 284.0320 - val_mae: 13.1410\n",
            "Epoch 19/100\n",
            "666/666 [==============================] - 1s 2ms/step - loss: 335.5003 - mae: 14.5613 - val_loss: 282.5679 - val_mae: 13.1233\n",
            "Epoch 20/100\n",
            "666/666 [==============================] - 1s 2ms/step - loss: 314.1497 - mae: 14.2367 - val_loss: 281.0779 - val_mae: 13.1037\n",
            "Epoch 21/100\n",
            "666/666 [==============================] - 1s 2ms/step - loss: 324.0071 - mae: 14.2750 - val_loss: 279.9338 - val_mae: 13.0903\n",
            "Epoch 22/100\n",
            "666/666 [==============================] - 1s 2ms/step - loss: 336.9555 - mae: 14.7234 - val_loss: 279.4102 - val_mae: 13.0866\n",
            "Epoch 23/100\n",
            "666/666 [==============================] - 1s 2ms/step - loss: 329.7459 - mae: 14.5096 - val_loss: 278.8857 - val_mae: 13.0855\n",
            "Epoch 24/100\n",
            "666/666 [==============================] - 1s 2ms/step - loss: 319.6186 - mae: 14.2262 - val_loss: 278.2943 - val_mae: 13.0869\n",
            "Epoch 25/100\n",
            "666/666 [==============================] - 2s 3ms/step - loss: 329.4935 - mae: 14.6637 - val_loss: 277.8388 - val_mae: 13.0936\n",
            "Epoch 26/100\n",
            "666/666 [==============================] - 1s 2ms/step - loss: 333.4174 - mae: 14.6795 - val_loss: 277.6198 - val_mae: 13.0991\n",
            "Epoch 27/100\n",
            "666/666 [==============================] - 1s 2ms/step - loss: 323.4337 - mae: 14.5049 - val_loss: 277.4598 - val_mae: 13.1038\n",
            "Epoch 28/100\n",
            "666/666 [==============================] - 1s 2ms/step - loss: 330.5378 - mae: 14.3797 - val_loss: 277.3893 - val_mae: 13.1059\n",
            "Epoch 29/100\n",
            "666/666 [==============================] - 1s 2ms/step - loss: 336.0733 - mae: 14.5952 - val_loss: 277.2034 - val_mae: 13.1127\n",
            "Epoch 30/100\n",
            "666/666 [==============================] - 1s 2ms/step - loss: 334.7797 - mae: 14.6387 - val_loss: 277.1649 - val_mae: 13.1143\n",
            "Epoch 31/100\n",
            "666/666 [==============================] - 1s 2ms/step - loss: 339.3781 - mae: 14.7297 - val_loss: 277.2491 - val_mae: 13.1108\n",
            "Epoch 32/100\n",
            "666/666 [==============================] - 1s 2ms/step - loss: 323.6694 - mae: 14.3625 - val_loss: 277.1567 - val_mae: 13.1147\n",
            "Epoch 33/100\n",
            "666/666 [==============================] - 1s 2ms/step - loss: 324.5817 - mae: 14.3939 - val_loss: 276.9910 - val_mae: 13.1233\n",
            "Epoch 34/100\n",
            "666/666 [==============================] - 1s 2ms/step - loss: 332.9281 - mae: 14.8622 - val_loss: 276.9335 - val_mae: 13.1265\n",
            "Epoch 35/100\n",
            "666/666 [==============================] - 1s 2ms/step - loss: 322.1526 - mae: 14.2615 - val_loss: 276.9051 - val_mae: 13.1281\n",
            "Epoch 36/100\n",
            "666/666 [==============================] - 1s 2ms/step - loss: 311.5785 - mae: 14.0168 - val_loss: 276.9191 - val_mae: 13.1273\n",
            "Epoch 37/100\n",
            "666/666 [==============================] - 1s 2ms/step - loss: 317.0222 - mae: 13.9867 - val_loss: 276.8647 - val_mae: 13.1305\n",
            "Epoch 38/100\n",
            "666/666 [==============================] - 1s 2ms/step - loss: 325.8412 - mae: 14.1639 - val_loss: 276.9746 - val_mae: 13.1242\n",
            "Epoch 39/100\n",
            "666/666 [==============================] - 1s 2ms/step - loss: 323.7949 - mae: 14.4347 - val_loss: 277.0630 - val_mae: 13.1194\n",
            "Epoch 40/100\n",
            "666/666 [==============================] - 1s 2ms/step - loss: 324.3036 - mae: 14.1704 - val_loss: 276.9521 - val_mae: 13.1255\n",
            "Epoch 41/100\n",
            "666/666 [==============================] - 1s 2ms/step - loss: 321.2540 - mae: 14.3183 - val_loss: 276.9554 - val_mae: 13.1253\n",
            "Epoch 42/100\n",
            "666/666 [==============================] - 1s 2ms/step - loss: 318.4951 - mae: 14.4433 - val_loss: 277.0282 - val_mae: 13.1213\n",
            "Epoch 43/100\n",
            "666/666 [==============================] - 1s 2ms/step - loss: 338.3743 - mae: 14.7472 - val_loss: 277.0538 - val_mae: 13.1199\n",
            "Epoch 44/100\n",
            "666/666 [==============================] - 1s 2ms/step - loss: 312.6517 - mae: 14.0838 - val_loss: 276.9697 - val_mae: 13.1245\n",
            "Epoch 45/100\n",
            "666/666 [==============================] - 1s 2ms/step - loss: 318.3159 - mae: 14.4032 - val_loss: 276.9569 - val_mae: 13.1252\n",
            "Epoch 46/100\n",
            "666/666 [==============================] - 1s 2ms/step - loss: 323.1926 - mae: 14.3640 - val_loss: 276.9247 - val_mae: 13.1270\n",
            "Epoch 47/100\n",
            "666/666 [==============================] - 1s 2ms/step - loss: 323.8175 - mae: 14.5023 - val_loss: 277.0049 - val_mae: 13.1226\n",
            "Epoch 48/100\n",
            "666/666 [==============================] - 1s 2ms/step - loss: 332.2090 - mae: 14.5379 - val_loss: 277.0410 - val_mae: 13.1206\n",
            "Epoch 49/100\n",
            "666/666 [==============================] - 1s 2ms/step - loss: 317.3163 - mae: 14.5147 - val_loss: 277.0079 - val_mae: 13.1224\n",
            "Epoch 50/100\n",
            "666/666 [==============================] - 1s 2ms/step - loss: 320.3701 - mae: 14.4892 - val_loss: 276.9295 - val_mae: 13.1267\n",
            "Epoch 51/100\n",
            "666/666 [==============================] - 1s 2ms/step - loss: 326.3193 - mae: 14.5925 - val_loss: 276.7646 - val_mae: 13.1370\n",
            "Epoch 52/100\n",
            "666/666 [==============================] - 1s 2ms/step - loss: 331.1196 - mae: 14.6358 - val_loss: 276.6878 - val_mae: 13.1423\n",
            "Epoch 53/100\n",
            "666/666 [==============================] - 1s 2ms/step - loss: 309.6688 - mae: 14.0273 - val_loss: 276.6585 - val_mae: 13.1445\n",
            "Epoch 54/100\n",
            "666/666 [==============================] - 1s 2ms/step - loss: 316.3230 - mae: 14.0997 - val_loss: 276.6715 - val_mae: 13.1435\n",
            "Epoch 55/100\n",
            "666/666 [==============================] - 1s 2ms/step - loss: 320.6814 - mae: 14.3465 - val_loss: 276.6469 - val_mae: 13.1453\n",
            "Epoch 56/100\n",
            "666/666 [==============================] - 1s 2ms/step - loss: 317.8167 - mae: 14.4942 - val_loss: 276.5952 - val_mae: 13.1493\n",
            "Epoch 57/100\n",
            "666/666 [==============================] - 1s 2ms/step - loss: 327.8135 - mae: 14.5406 - val_loss: 276.5591 - val_mae: 13.1521\n",
            "Epoch 58/100\n",
            "666/666 [==============================] - 1s 2ms/step - loss: 326.9294 - mae: 14.5126 - val_loss: 276.6108 - val_mae: 13.1481\n",
            "Epoch 59/100\n",
            "666/666 [==============================] - 1s 2ms/step - loss: 324.5521 - mae: 14.4315 - val_loss: 276.6137 - val_mae: 13.1478\n",
            "Epoch 60/100\n",
            "666/666 [==============================] - 1s 2ms/step - loss: 311.7672 - mae: 14.1746 - val_loss: 276.6376 - val_mae: 13.1460\n",
            "Epoch 61/100\n",
            "666/666 [==============================] - 1s 2ms/step - loss: 337.0647 - mae: 14.4901 - val_loss: 276.5825 - val_mae: 13.1503\n",
            "Epoch 62/100\n",
            "666/666 [==============================] - 1s 2ms/step - loss: 322.2904 - mae: 14.3386 - val_loss: 276.5705 - val_mae: 13.1512\n",
            "Epoch 63/100\n",
            "666/666 [==============================] - 1s 2ms/step - loss: 297.3030 - mae: 13.9161 - val_loss: 276.4733 - val_mae: 13.1594\n",
            "Epoch 64/100\n",
            "666/666 [==============================] - 1s 2ms/step - loss: 342.9278 - mae: 14.8605 - val_loss: 276.4956 - val_mae: 13.1574\n",
            "Epoch 65/100\n",
            "666/666 [==============================] - 1s 2ms/step - loss: 314.3939 - mae: 14.2435 - val_loss: 276.4525 - val_mae: 13.1613\n",
            "Epoch 66/100\n",
            "666/666 [==============================] - 1s 2ms/step - loss: 326.2720 - mae: 14.5124 - val_loss: 276.4526 - val_mae: 13.1613\n",
            "Epoch 67/100\n",
            "666/666 [==============================] - 1s 2ms/step - loss: 310.5646 - mae: 14.0653 - val_loss: 276.4198 - val_mae: 13.1643\n",
            "Epoch 68/100\n",
            "666/666 [==============================] - 1s 2ms/step - loss: 330.4658 - mae: 14.6433 - val_loss: 276.4044 - val_mae: 13.1658\n",
            "Epoch 69/100\n",
            "666/666 [==============================] - 1s 2ms/step - loss: 317.9586 - mae: 14.4680 - val_loss: 276.3179 - val_mae: 13.1750\n",
            "Epoch 70/100\n",
            "666/666 [==============================] - 1s 2ms/step - loss: 317.7929 - mae: 14.3439 - val_loss: 276.4006 - val_mae: 13.1662\n",
            "Epoch 71/100\n",
            "666/666 [==============================] - 1s 2ms/step - loss: 321.3295 - mae: 14.3145 - val_loss: 276.3984 - val_mae: 13.1664\n",
            "Epoch 72/100\n",
            "666/666 [==============================] - 1s 2ms/step - loss: 314.3138 - mae: 14.2025 - val_loss: 276.4065 - val_mae: 13.1656\n",
            "Epoch 73/100\n",
            "666/666 [==============================] - 1s 2ms/step - loss: 320.7227 - mae: 14.2611 - val_loss: 276.4341 - val_mae: 13.1630\n",
            "Epoch 74/100\n",
            "666/666 [==============================] - 1s 2ms/step - loss: 329.1828 - mae: 14.5099 - val_loss: 276.4556 - val_mae: 13.1610\n",
            "Epoch 75/100\n",
            "666/666 [==============================] - 1s 2ms/step - loss: 330.8573 - mae: 14.6663 - val_loss: 276.4506 - val_mae: 13.1615\n",
            "Epoch 76/100\n",
            "666/666 [==============================] - 1s 2ms/step - loss: 305.6763 - mae: 14.0029 - val_loss: 276.4553 - val_mae: 13.1610\n",
            "Epoch 77/100\n",
            "666/666 [==============================] - 1s 2ms/step - loss: 312.7249 - mae: 14.3320 - val_loss: 276.4536 - val_mae: 13.1612\n",
            "Epoch 78/100\n",
            "666/666 [==============================] - 1s 2ms/step - loss: 316.5919 - mae: 14.1298 - val_loss: 276.4558 - val_mae: 13.1610\n",
            "Epoch 79/100\n",
            "666/666 [==============================] - 1s 2ms/step - loss: 312.4063 - mae: 14.2689 - val_loss: 276.4660 - val_mae: 13.1600\n",
            "Epoch 80/100\n",
            "666/666 [==============================] - 1s 2ms/step - loss: 323.6131 - mae: 14.3353 - val_loss: 276.4844 - val_mae: 13.1584\n",
            "Epoch 81/100\n",
            "666/666 [==============================] - 1s 2ms/step - loss: 322.4463 - mae: 14.4031 - val_loss: 276.4481 - val_mae: 13.1617\n",
            "Epoch 82/100\n",
            "666/666 [==============================] - 1s 2ms/step - loss: 321.8765 - mae: 14.4467 - val_loss: 276.4784 - val_mae: 13.1589\n",
            "Epoch 83/100\n",
            "666/666 [==============================] - 1s 2ms/step - loss: 303.5125 - mae: 13.8640 - val_loss: 276.5147 - val_mae: 13.1558\n",
            "Epoch 84/100\n",
            "666/666 [==============================] - 1s 2ms/step - loss: 316.9240 - mae: 14.3384 - val_loss: 276.4784 - val_mae: 13.1589\n",
            "Epoch 85/100\n",
            "666/666 [==============================] - 2s 3ms/step - loss: 310.6020 - mae: 14.2756 - val_loss: 276.4888 - val_mae: 13.1580\n",
            "Epoch 86/100\n",
            "666/666 [==============================] - 2s 2ms/step - loss: 315.3089 - mae: 14.2045 - val_loss: 276.4283 - val_mae: 13.1635\n",
            "Epoch 87/100\n",
            "666/666 [==============================] - 1s 2ms/step - loss: 309.5760 - mae: 14.1076 - val_loss: 276.3809 - val_mae: 13.1682\n",
            "Epoch 88/100\n",
            "666/666 [==============================] - 1s 2ms/step - loss: 310.9831 - mae: 14.3045 - val_loss: 276.4565 - val_mae: 13.1609\n",
            "Epoch 89/100\n",
            "666/666 [==============================] - 2s 3ms/step - loss: 328.2286 - mae: 14.5881 - val_loss: 276.4753 - val_mae: 13.1592\n",
            "Epoch 90/100\n",
            "666/666 [==============================] - 1s 2ms/step - loss: 327.9126 - mae: 14.5237 - val_loss: 276.4974 - val_mae: 13.1573\n",
            "Epoch 91/100\n",
            "666/666 [==============================] - 1s 2ms/step - loss: 314.8451 - mae: 14.3710 - val_loss: 276.4128 - val_mae: 13.1650\n",
            "Epoch 92/100\n",
            "666/666 [==============================] - 1s 2ms/step - loss: 329.5496 - mae: 14.4962 - val_loss: 276.4374 - val_mae: 13.1627\n",
            "Epoch 93/100\n",
            "666/666 [==============================] - 1s 2ms/step - loss: 313.7499 - mae: 14.2484 - val_loss: 276.3983 - val_mae: 13.1664\n",
            "Epoch 94/100\n",
            "666/666 [==============================] - 1s 2ms/step - loss: 324.8968 - mae: 14.6744 - val_loss: 276.5780 - val_mae: 13.1506\n",
            "Epoch 95/100\n",
            "666/666 [==============================] - 1s 2ms/step - loss: 306.4504 - mae: 13.8820 - val_loss: 276.5210 - val_mae: 13.1553\n",
            "Epoch 96/100\n",
            "666/666 [==============================] - 1s 2ms/step - loss: 315.8737 - mae: 14.1543 - val_loss: 276.5514 - val_mae: 13.1527\n",
            "Epoch 97/100\n",
            "666/666 [==============================] - 1s 2ms/step - loss: 317.8493 - mae: 14.2434 - val_loss: 276.5178 - val_mae: 13.1555\n",
            "Epoch 98/100\n",
            "666/666 [==============================] - 1s 2ms/step - loss: 331.1318 - mae: 14.3895 - val_loss: 276.5064 - val_mae: 13.1565\n",
            "Epoch 99/100\n",
            "666/666 [==============================] - 1s 2ms/step - loss: 326.0715 - mae: 14.4585 - val_loss: 276.6171 - val_mae: 13.1476\n",
            "Epoch 100/100\n",
            "666/666 [==============================] - 1s 2ms/step - loss: 320.6831 - mae: 14.2827 - val_loss: 276.6448 - val_mae: 13.1455\n"
          ]
        },
        {
          "output_type": "execute_result",
          "data": {
            "text/plain": [
              "<keras.callbacks.History at 0x7f32580cd990>"
            ]
          },
          "metadata": {},
          "execution_count": 25
        }
      ]
    },
    {
      "cell_type": "code",
      "metadata": {
        "id": "d2f7b401",
        "colab": {
          "base_uri": "https://localhost:8080/"
        },
        "outputId": "85629b31-8985-4d63-9cc5-0c1ca11f3bbf"
      },
      "source": [
        "model.evaluate(x_test,y_test)"
      ],
      "id": "d2f7b401",
      "execution_count": 26,
      "outputs": [
        {
          "output_type": "stream",
          "name": "stdout",
          "text": [
            "9/9 [==============================] - 0s 3ms/step - loss: 276.6449 - mae: 13.1455\n"
          ]
        },
        {
          "output_type": "execute_result",
          "data": {
            "text/plain": [
              "[276.6449279785156, 13.14547061920166]"
            ]
          },
          "metadata": {},
          "execution_count": 26
        }
      ]
    },
    {
      "cell_type": "code",
      "metadata": {
        "id": "946795e7",
        "colab": {
          "base_uri": "https://localhost:8080/"
        },
        "outputId": "3d8bb022-8baf-4b61-c8dc-c4ce9f4576bc"
      },
      "source": [
        "pred=model.predict(x_test)\n",
        "pred[4]"
      ],
      "id": "946795e7",
      "execution_count": 27,
      "outputs": [
        {
          "output_type": "execute_result",
          "data": {
            "text/plain": [
              "array([34.077644], dtype=float32)"
            ]
          },
          "metadata": {},
          "execution_count": 27
        }
      ]
    },
    {
      "cell_type": "markdown",
      "metadata": {
        "id": "f52c3622"
      },
      "source": [
        "## Using Auto Keras"
      ],
      "id": "f52c3622"
    },
    {
      "cell_type": "markdown",
      "metadata": {
        "id": "aefa1da7"
      },
      "source": [
        " ![download.png](data:image/png;base64,iVBORw0KGgoAAAANSUhEUgAAAYkAAACACAMAAADJe2XzAAAAdVBMVEX///8xr7SDz9Kt3+Fav8MPqa4nrbL0+/sMqa6o3d/c7/Dp9vcvrrQjrLHV6+x7zdBNu8DD5OV+x8uV0NN1xMiLzM9CtLit2txqwMSe1NdOvMDv+PhSuL233uB5xsnW7O3K6uuP09ad2Nq+5edsxciz3N5fvMGTuJjFAAAL5klEQVR4nO1ca3uiPBCNXbkIxmptRcULXVf//0/cZAJkJgGE1i77+Mz58O4briEnczmTWCEYDAaDwWAwGAwGg8FgMBgMBoPBYDAYDAaDwWAwGAzGI3ELasRrIULUXIk8QEjH7upzowgmNUIhdrJuzQ9CvId1U34IkYzd22fGxhIRHEWEeAkSkaCmFCLfjN3bJ8bV2sBEjfOHtYHwJMQBmUSmzu5/j93f5wUiIliINLbNOBcrZBIT5Zv20300doefFTgs3ITYIhtQ0RvxEKxU0JhO959j9/hJgcNCnIozMgkVFjJLU6ii92I/nU6XnED9CN5QWHhT0RuZxJV6LpU1TQEvY/f5KYHDQhCJI7IQHb2RSWyFWC2BiT1nsj+A29zawE6JOhIWcpzQ5pVJTKd/xu71E6Jd1IU3T9Rl+5KJfTF2v58P7aIu9kRdVBGhMHa/nw4dYcEXdWvLxP4yds+fDTgsFCLFJuGJOvEb2QQbxWPhhIVuUScEYmKfjd33p4Ij6hadok7JuSOmYuzOPxU6RF1GRd1ZZbALm8VqJrgQ+Dg4ou5yR9QpEVFgo8jH7v/zwBF1NCzkNHorc1iqfOkPYoILgY/Col3U+St1WtTtoShuqeBC4IOARJ283lmpA1G3nAnxgkLF69hf8CQYJOo+wRaWkciRUSy5EPgQhDZKaFGHo3fTSl0VGrC840LgIzBopa4K1Co04OITFwIfgEErdTZ5VX7rF9c8HgpH1B26RR2xAizvuBD4XZANHJEbFtZU1KVLYgWrwTWPaOdtB4kUmg9EHuidySXLslVHBu3eYtttT25/WY2isc6Wru705T5uyAa6RZ1+zScqhx+JvFv2KgS+xR/OkUMcBMERHTjpAypAiSzwsLaXFe9BIDWC8KNlALbqSfHO3qEfHEM3i5Yn72J8LDwtGp4aBH6imE1i6Es88WdaXwwSdU6UFuKMbKTP5icVk2Lnsk3pBmvojCHUfKG+VF2qaUwOAXKq8anx3Rt6izb+uQTWVu6jy8vW9HgYbL2HZjL0Dh7sIEpE/TAMEXWFylVndux15e91Spr3oL5UOj31mHjvwcQuDukJ2TR7CRO51Ll6bOZzTybU8YnLsR4ZxwY3pDPB7f44NKBD1L170RuiNK38pcMKgYGhlHxGKxPrINQou6Mh38wlb1Wv59XpSbzy34aZiCb6yrgwLcNEaCERE/PymHmvs/n3KE1ig2AGTSp3Zp76NSaGiLrLXkfpCxr7F7KOOnVDgAdIiSUNKO1MLLbvCqcDzJKT/v+tGe6SCBlvtu+3sHRTDVRgJmDeBtfyjGECnmmwLeC4ZmK+KY9v4DWODYMPIR42gkELV5FIdqE0O1+GY9BK3d5EaZy6JjRw3EsdwopU59OamSixDp1ZaOx4Lnfmk5OTmT/+DzoQE5CX2IAPTBz8Dq7JjDczkdiw2QAjUeYAVlK/PJPxVXwBTljoFnXZ0kTpBS1yoMCh1V4XjrJm1WIwE2YOyoOdl2fwJKE3spaJExij7R4w0fCjA2ACXabHJ8AhqPTXsvWeqMFL9kD3rnwUveJzOfn3O9iaXFtBQQLH8tz5uio72LgHBzEBSlSS/CVqYFggJtYQn5D/7smE17kktsNTQQ+iDqrfgbNS1y3qynqfE6WdwNFZCKyfT2bZUCaMSTijaLaiuENbMZHpW0jo7cuEZh0HCuu+7THw8PJ7v1/oDAs5pim1NfAPKu+uNHAUHa/TJhfq+Euyi6FMgM+MXXEFR13JVTKxAiJIOtqXCR1eUOeA8A302NofKLJw8x0qujdwOKLuoy1Kq+fQEkgbzjBvRewM2VAmtirbm/uCqyErM0ysjb1IktH0ZCJ34gSYSHZ1bjZD5r58CKioE+2iLiBrpX/IyoTWcydETHshUK+Vq+6+OW51KBMw5P5b4LFOxgBMbCFPd4zIZLEfbxWqwaa5kwmcNjqDY1QZrMPPysxoKddf3FlxRRWWia4I2aYaqA36+e9OO6RlhY0yzCVqpiLd1K19ayEwLVUd/Ity7oFMQLrX8AtkPVHd7AmmGpi2LOgZR9kF1euAiW1icIV7UZioeIJ/kYfNqjgenL5UAjwvLNTAoNYiEhFuqovzBEENJ2qpl+OTbfMCLFvn4XqSopEeyIRxGL5TbvI3tdHPXUfkVDtCzMSk+g26rBx1hWoSGNtAVraqimBhvBbDkSJEtCm85reZgBEEbQoRLiDD9aNMzCe+tXQygSHRI3WSZCKU5wqjbcWF/ELoTmYWv5R6RE3lho+oqcb687XGH2Ujr6ip0to/qN3ytg87ngeSGg71TvEw7xSuIUOUtFRkmCB/jcG8y2EixreFdXgADxuTOZe8GxtSLm84Fb8sZmqez1AzFxFqqnn8+lLjU91pm6/q7Kc9+dpUExWVey8LoZD24eEaHLF9IesmAtWj1ZNM1kHKR8aCcmz15l21d4IpfsNxHqdMjoc1n7iOITn4QgUwxWOvbcQ2lVEU9SnVzxc01kpbIF6UDZwpTY3Y4SAHg3/FjQFM6BTfXyEwBDUU3NWTTBpblWEBnVksvNuUH/C5CZoCCfWwJaKbMbWW2diBC2KioDaSWhtRrFzQWCvOfiMiVpSmtn1PUG0+7Qy2+CtB7+E4p7UfLrE1KTtv2axL2ZVpZoxc2n0mwAtiao0ll1+QTRqIF6VWdo2lB3JsFBGxEeVzzrPKUwlsA+o61HxRxoOabYtFRjXOpQEQUVWJTiEdFDMEqKDpMJEPr3aIHZxGDvw+E2bVAaUGpigXlp9gQoJ3PzhhvxR5H8gofhXURpLKRi40LBxpWDhTmtpS2ImPqr9mNlvHD24Bz263AnhqrQDi1XANW4vdSjpCPZgwg1pPb7zKXEH6BfBN04zogYhG6bwhcChb6Q4LRxq9G2Fqf3MLGDhTuDVzXFau4+jNbpeJvK0q7g0AWp+AhSJZR/QeTJRGUfULFjjmzieUHvZm3ZTDeH8UNEqvEBNnMAodP3BYKNzoHVHP1QwrdiuDmNiwezIqGCZ09BF4s9tbKboaXoOdGaXzu8lZ4q6VotzE0mrIOleKqvVWMIqSvCR2vgAaxpR3Um7KIA112S/ECUFT15Q2IbnSpkHDwoqGhRkyibaaU+GpsQSpgnK5Ssrb9hB7uraBCfFm3LQMJuoW2W/11JQ7q4uMntha3MwJzIRJaUs/+e5lbCCQdEfBRoNDluSJWdb1CsW9cKZRemGb2hou2jI6w4ITvZtx88aSHKpqwvWaOi32+0zYHQXhvN5R0DANyN6OzFgb3tuBfA3aUVDfYYwCUm8z2mQdzIj9c70LQ1YiRN5ZuWwDtoKEZrKRiiM0NeoWdUXLK5IGWVzUxQ9RFzOr0Q3ppQ1MfGWXTWlJJoHq2mVj7zBGoT+rNgCEykzSkDxMfiFeAxJqFI68ix4g6hosuxylWjUkm/pj5sHNiTYfDfVuuvNMxm89dp6ZPNQUAzuZoHVfHdhNhcBxf0m90nKK68c17VXrC2wFZ0/ePUDUiSCI/R2Mq1jBatjrBrZWBsHWm9y7QF3pB8HFSQblDsh1627MOA6sfI9C3YaC/EI/E6OM5fAuqyrXcCpVuZ/615vr9vH5bmO2hsaHr20oAKRelK6hM5hvi7q+yItrdhxWJ0hW6pbi//iNX744Ztfie6vZR8REgeUdmMi3RR2jN1Ja80BqTzxA1DEGwFqBKcLObJjAYaFww0IvUccYgKhZ3l0eIeoYg1Ago6iLsLoG+31RxxiEqEneFUNW6oqxP+FZUPjyTiW0XbU+6rn473Y8DNgoQN7p/z5A1DGG4uzJO/EPRR0DAXknkHdJp6hbsKj7MSSOvLsn6pDnep2N3fnnAk5kQRzgsFCwqPt3SB15x6JuNFwoE71FHf+RrUcDbey4sKgbFbVRzLyVOhZ1/xRVzQOyWBoWfiMiLizqfhxlzUMnpSzqxsWsrnZ07srHNP0fS5dPB1PzYFH3H6CsiuOw4NX6WNT9C+iaB4u6/wIs6v4XpIN+U1eM3d1nxhBRx4vXPwsnNXLCAo3eDAaDwWAwGAwGg8FgMBgMBoPBYDAYDAaDwWAwGAwGg/FQ/AXw+effLpYo7QAAAABJRU5ErkJggg==)"
      ],
      "id": "aefa1da7"
    },
    {
      "cell_type": "markdown",
      "metadata": {
        "id": "5d0faa21"
      },
      "source": [
        "## AutoKeras: An AutoML system based on Keras. It is developed by DATA Lab at Texas A&M University"
      ],
      "id": "5d0faa21"
    },
    {
      "cell_type": "markdown",
      "metadata": {
        "id": "91c88504"
      },
      "source": [
        "## Installing Auto Keras"
      ],
      "id": "91c88504"
    },
    {
      "cell_type": "code",
      "metadata": {
        "id": "e3c4c832",
        "colab": {
          "base_uri": "https://localhost:8080/"
        },
        "outputId": "20d366b2-518c-4c26-f397-72f2a512c62c"
      },
      "source": [
        "!pip install git+https://github.com/keras-team/keras-tuner.git@1.0.2rc1\n"
      ],
      "id": "e3c4c832",
      "execution_count": 28,
      "outputs": [
        {
          "output_type": "stream",
          "name": "stdout",
          "text": [
            "Looking in indexes: https://pypi.org/simple, https://us-python.pkg.dev/colab-wheels/public/simple/\n",
            "Collecting git+https://github.com/keras-team/keras-tuner.git@1.0.2rc1\n",
            "  Cloning https://github.com/keras-team/keras-tuner.git (to revision 1.0.2rc1) to /tmp/pip-req-build-tbcg48z5\n",
            "  Running command git clone -q https://github.com/keras-team/keras-tuner.git /tmp/pip-req-build-tbcg48z5\n",
            "  Running command git checkout -q 0fb69434a132093518e0e53d40020145ae192629\n",
            "Requirement already satisfied: packaging in /usr/local/lib/python3.7/dist-packages (from keras-tuner==1.0.2rc1) (21.3)\n",
            "Requirement already satisfied: future in /usr/local/lib/python3.7/dist-packages (from keras-tuner==1.0.2rc1) (0.16.0)\n",
            "Requirement already satisfied: numpy in /usr/local/lib/python3.7/dist-packages (from keras-tuner==1.0.2rc1) (1.21.6)\n",
            "Requirement already satisfied: tabulate in /usr/local/lib/python3.7/dist-packages (from keras-tuner==1.0.2rc1) (0.8.10)\n",
            "Collecting terminaltables\n",
            "  Downloading terminaltables-3.1.10-py2.py3-none-any.whl (15 kB)\n",
            "Collecting colorama\n",
            "  Downloading colorama-0.4.5-py2.py3-none-any.whl (16 kB)\n",
            "Requirement already satisfied: tqdm in /usr/local/lib/python3.7/dist-packages (from keras-tuner==1.0.2rc1) (4.64.0)\n",
            "Requirement already satisfied: requests in /usr/local/lib/python3.7/dist-packages (from keras-tuner==1.0.2rc1) (2.23.0)\n",
            "Requirement already satisfied: scipy in /usr/local/lib/python3.7/dist-packages (from keras-tuner==1.0.2rc1) (1.7.3)\n",
            "Requirement already satisfied: scikit-learn in /usr/local/lib/python3.7/dist-packages (from keras-tuner==1.0.2rc1) (1.0.2)\n",
            "Requirement already satisfied: pyparsing!=3.0.5,>=2.0.2 in /usr/local/lib/python3.7/dist-packages (from packaging->keras-tuner==1.0.2rc1) (3.0.9)\n",
            "Requirement already satisfied: chardet<4,>=3.0.2 in /usr/local/lib/python3.7/dist-packages (from requests->keras-tuner==1.0.2rc1) (3.0.4)\n",
            "Requirement already satisfied: idna<3,>=2.5 in /usr/local/lib/python3.7/dist-packages (from requests->keras-tuner==1.0.2rc1) (2.10)\n",
            "Requirement already satisfied: certifi>=2017.4.17 in /usr/local/lib/python3.7/dist-packages (from requests->keras-tuner==1.0.2rc1) (2022.6.15)\n",
            "Requirement already satisfied: urllib3!=1.25.0,!=1.25.1,<1.26,>=1.21.1 in /usr/local/lib/python3.7/dist-packages (from requests->keras-tuner==1.0.2rc1) (1.24.3)\n",
            "Requirement already satisfied: threadpoolctl>=2.0.0 in /usr/local/lib/python3.7/dist-packages (from scikit-learn->keras-tuner==1.0.2rc1) (3.1.0)\n",
            "Requirement already satisfied: joblib>=0.11 in /usr/local/lib/python3.7/dist-packages (from scikit-learn->keras-tuner==1.0.2rc1) (1.1.0)\n",
            "Building wheels for collected packages: keras-tuner\n",
            "  Building wheel for keras-tuner (setup.py) ... \u001b[?25l\u001b[?25hdone\n",
            "  Created wheel for keras-tuner: filename=keras_tuner-1.0.2rc1-py3-none-any.whl size=85445 sha256=1c7bd66252fe396f6a8670a474a3d75bd32aeaf62723d97820d19c8fc10613cf\n",
            "  Stored in directory: /tmp/pip-ephem-wheel-cache-irv6ehkp/wheels/44/e5/92/e83049ca00432aec622a4fa0200e254d88aefae9d74aa86941\n",
            "Successfully built keras-tuner\n",
            "Installing collected packages: terminaltables, colorama, keras-tuner\n",
            "Successfully installed colorama-0.4.5 keras-tuner-1.0.2rc1 terminaltables-3.1.10\n"
          ]
        }
      ]
    },
    {
      "cell_type": "code",
      "metadata": {
        "id": "ddd1dfb5",
        "colab": {
          "base_uri": "https://localhost:8080/"
        },
        "outputId": "2d870cfd-9bb2-4e0c-d474-8d3f456cc495"
      },
      "source": [
        "!pip install autokeras"
      ],
      "id": "ddd1dfb5",
      "execution_count": 29,
      "outputs": [
        {
          "output_type": "stream",
          "name": "stdout",
          "text": [
            "Looking in indexes: https://pypi.org/simple, https://us-python.pkg.dev/colab-wheels/public/simple/\n",
            "Collecting autokeras\n",
            "  Downloading autokeras-1.0.19-py3-none-any.whl (162 kB)\n",
            "\u001b[K     |████████████████████████████████| 162 kB 7.2 MB/s \n",
            "\u001b[?25hRequirement already satisfied: pandas in /usr/local/lib/python3.7/dist-packages (from autokeras) (1.3.5)\n",
            "Collecting keras-tuner>=1.1.0\n",
            "  Downloading keras_tuner-1.1.2-py3-none-any.whl (133 kB)\n",
            "\u001b[K     |████████████████████████████████| 133 kB 47.2 MB/s \n",
            "\u001b[?25hRequirement already satisfied: packaging in /usr/local/lib/python3.7/dist-packages (from autokeras) (21.3)\n",
            "Requirement already satisfied: tensorflow>=2.8.0 in /usr/local/lib/python3.7/dist-packages (from autokeras) (2.8.2+zzzcolab20220527125636)\n",
            "Requirement already satisfied: ipython in /usr/local/lib/python3.7/dist-packages (from keras-tuner>=1.1.0->autokeras) (5.5.0)\n",
            "Requirement already satisfied: requests in /usr/local/lib/python3.7/dist-packages (from keras-tuner>=1.1.0->autokeras) (2.23.0)\n",
            "Requirement already satisfied: tensorboard in /usr/local/lib/python3.7/dist-packages (from keras-tuner>=1.1.0->autokeras) (2.8.0)\n",
            "Collecting kt-legacy\n",
            "  Downloading kt_legacy-1.0.4-py3-none-any.whl (9.6 kB)\n",
            "Requirement already satisfied: numpy in /usr/local/lib/python3.7/dist-packages (from keras-tuner>=1.1.0->autokeras) (1.21.6)\n",
            "Requirement already satisfied: termcolor>=1.1.0 in /usr/local/lib/python3.7/dist-packages (from tensorflow>=2.8.0->autokeras) (1.1.0)\n",
            "Requirement already satisfied: tensorflow-estimator<2.9,>=2.8 in /usr/local/lib/python3.7/dist-packages (from tensorflow>=2.8.0->autokeras) (2.8.0)\n",
            "Requirement already satisfied: google-pasta>=0.1.1 in /usr/local/lib/python3.7/dist-packages (from tensorflow>=2.8.0->autokeras) (0.2.0)\n",
            "Requirement already satisfied: libclang>=9.0.1 in /usr/local/lib/python3.7/dist-packages (from tensorflow>=2.8.0->autokeras) (14.0.1)\n",
            "Requirement already satisfied: flatbuffers>=1.12 in /usr/local/lib/python3.7/dist-packages (from tensorflow>=2.8.0->autokeras) (2.0)\n",
            "Requirement already satisfied: gast>=0.2.1 in /usr/local/lib/python3.7/dist-packages (from tensorflow>=2.8.0->autokeras) (0.5.3)\n",
            "Requirement already satisfied: six>=1.12.0 in /usr/local/lib/python3.7/dist-packages (from tensorflow>=2.8.0->autokeras) (1.15.0)\n",
            "Requirement already satisfied: keras-preprocessing>=1.1.1 in /usr/local/lib/python3.7/dist-packages (from tensorflow>=2.8.0->autokeras) (1.1.2)\n",
            "Requirement already satisfied: astunparse>=1.6.0 in /usr/local/lib/python3.7/dist-packages (from tensorflow>=2.8.0->autokeras) (1.6.3)\n",
            "Requirement already satisfied: protobuf<3.20,>=3.9.2 in /usr/local/lib/python3.7/dist-packages (from tensorflow>=2.8.0->autokeras) (3.17.3)\n",
            "Requirement already satisfied: setuptools in /usr/local/lib/python3.7/dist-packages (from tensorflow>=2.8.0->autokeras) (57.4.0)\n",
            "Requirement already satisfied: keras<2.9,>=2.8.0rc0 in /usr/local/lib/python3.7/dist-packages (from tensorflow>=2.8.0->autokeras) (2.8.0)\n",
            "Requirement already satisfied: grpcio<2.0,>=1.24.3 in /usr/local/lib/python3.7/dist-packages (from tensorflow>=2.8.0->autokeras) (1.47.0)\n",
            "Requirement already satisfied: h5py>=2.9.0 in /usr/local/lib/python3.7/dist-packages (from tensorflow>=2.8.0->autokeras) (3.1.0)\n",
            "Requirement already satisfied: tensorflow-io-gcs-filesystem>=0.23.1 in /usr/local/lib/python3.7/dist-packages (from tensorflow>=2.8.0->autokeras) (0.26.0)\n",
            "Requirement already satisfied: wrapt>=1.11.0 in /usr/local/lib/python3.7/dist-packages (from tensorflow>=2.8.0->autokeras) (1.14.1)\n",
            "Requirement already satisfied: absl-py>=0.4.0 in /usr/local/lib/python3.7/dist-packages (from tensorflow>=2.8.0->autokeras) (1.1.0)\n",
            "Requirement already satisfied: typing-extensions>=3.6.6 in /usr/local/lib/python3.7/dist-packages (from tensorflow>=2.8.0->autokeras) (4.1.1)\n",
            "Requirement already satisfied: opt-einsum>=2.3.2 in /usr/local/lib/python3.7/dist-packages (from tensorflow>=2.8.0->autokeras) (3.3.0)\n",
            "Requirement already satisfied: wheel<1.0,>=0.23.0 in /usr/local/lib/python3.7/dist-packages (from astunparse>=1.6.0->tensorflow>=2.8.0->autokeras) (0.37.1)\n",
            "Requirement already satisfied: cached-property in /usr/local/lib/python3.7/dist-packages (from h5py>=2.9.0->tensorflow>=2.8.0->autokeras) (1.5.2)\n",
            "Requirement already satisfied: tensorboard-data-server<0.7.0,>=0.6.0 in /usr/local/lib/python3.7/dist-packages (from tensorboard->keras-tuner>=1.1.0->autokeras) (0.6.1)\n",
            "Requirement already satisfied: tensorboard-plugin-wit>=1.6.0 in /usr/local/lib/python3.7/dist-packages (from tensorboard->keras-tuner>=1.1.0->autokeras) (1.8.1)\n",
            "Requirement already satisfied: markdown>=2.6.8 in /usr/local/lib/python3.7/dist-packages (from tensorboard->keras-tuner>=1.1.0->autokeras) (3.3.7)\n",
            "Requirement already satisfied: google-auth<3,>=1.6.3 in /usr/local/lib/python3.7/dist-packages (from tensorboard->keras-tuner>=1.1.0->autokeras) (1.35.0)\n",
            "Requirement already satisfied: werkzeug>=0.11.15 in /usr/local/lib/python3.7/dist-packages (from tensorboard->keras-tuner>=1.1.0->autokeras) (1.0.1)\n",
            "Requirement already satisfied: google-auth-oauthlib<0.5,>=0.4.1 in /usr/local/lib/python3.7/dist-packages (from tensorboard->keras-tuner>=1.1.0->autokeras) (0.4.6)\n",
            "Requirement already satisfied: cachetools<5.0,>=2.0.0 in /usr/local/lib/python3.7/dist-packages (from google-auth<3,>=1.6.3->tensorboard->keras-tuner>=1.1.0->autokeras) (4.2.4)\n",
            "Requirement already satisfied: pyasn1-modules>=0.2.1 in /usr/local/lib/python3.7/dist-packages (from google-auth<3,>=1.6.3->tensorboard->keras-tuner>=1.1.0->autokeras) (0.2.8)\n",
            "Requirement already satisfied: rsa<5,>=3.1.4 in /usr/local/lib/python3.7/dist-packages (from google-auth<3,>=1.6.3->tensorboard->keras-tuner>=1.1.0->autokeras) (4.8)\n",
            "Requirement already satisfied: requests-oauthlib>=0.7.0 in /usr/local/lib/python3.7/dist-packages (from google-auth-oauthlib<0.5,>=0.4.1->tensorboard->keras-tuner>=1.1.0->autokeras) (1.3.1)\n",
            "Requirement already satisfied: importlib-metadata>=4.4 in /usr/local/lib/python3.7/dist-packages (from markdown>=2.6.8->tensorboard->keras-tuner>=1.1.0->autokeras) (4.12.0)\n",
            "Requirement already satisfied: zipp>=0.5 in /usr/local/lib/python3.7/dist-packages (from importlib-metadata>=4.4->markdown>=2.6.8->tensorboard->keras-tuner>=1.1.0->autokeras) (3.8.0)\n",
            "Requirement already satisfied: pyasn1<0.5.0,>=0.4.6 in /usr/local/lib/python3.7/dist-packages (from pyasn1-modules>=0.2.1->google-auth<3,>=1.6.3->tensorboard->keras-tuner>=1.1.0->autokeras) (0.4.8)\n",
            "Requirement already satisfied: certifi>=2017.4.17 in /usr/local/lib/python3.7/dist-packages (from requests->keras-tuner>=1.1.0->autokeras) (2022.6.15)\n",
            "Requirement already satisfied: urllib3!=1.25.0,!=1.25.1,<1.26,>=1.21.1 in /usr/local/lib/python3.7/dist-packages (from requests->keras-tuner>=1.1.0->autokeras) (1.24.3)\n",
            "Requirement already satisfied: chardet<4,>=3.0.2 in /usr/local/lib/python3.7/dist-packages (from requests->keras-tuner>=1.1.0->autokeras) (3.0.4)\n",
            "Requirement already satisfied: idna<3,>=2.5 in /usr/local/lib/python3.7/dist-packages (from requests->keras-tuner>=1.1.0->autokeras) (2.10)\n",
            "Requirement already satisfied: oauthlib>=3.0.0 in /usr/local/lib/python3.7/dist-packages (from requests-oauthlib>=0.7.0->google-auth-oauthlib<0.5,>=0.4.1->tensorboard->keras-tuner>=1.1.0->autokeras) (3.2.0)\n",
            "Requirement already satisfied: simplegeneric>0.8 in /usr/local/lib/python3.7/dist-packages (from ipython->keras-tuner>=1.1.0->autokeras) (0.8.1)\n",
            "Requirement already satisfied: prompt-toolkit<2.0.0,>=1.0.4 in /usr/local/lib/python3.7/dist-packages (from ipython->keras-tuner>=1.1.0->autokeras) (1.0.18)\n",
            "Requirement already satisfied: pygments in /usr/local/lib/python3.7/dist-packages (from ipython->keras-tuner>=1.1.0->autokeras) (2.6.1)\n",
            "Requirement already satisfied: pickleshare in /usr/local/lib/python3.7/dist-packages (from ipython->keras-tuner>=1.1.0->autokeras) (0.7.5)\n",
            "Requirement already satisfied: decorator in /usr/local/lib/python3.7/dist-packages (from ipython->keras-tuner>=1.1.0->autokeras) (4.4.2)\n",
            "Requirement already satisfied: pexpect in /usr/local/lib/python3.7/dist-packages (from ipython->keras-tuner>=1.1.0->autokeras) (4.8.0)\n",
            "Requirement already satisfied: traitlets>=4.2 in /usr/local/lib/python3.7/dist-packages (from ipython->keras-tuner>=1.1.0->autokeras) (5.1.1)\n",
            "Requirement already satisfied: wcwidth in /usr/local/lib/python3.7/dist-packages (from prompt-toolkit<2.0.0,>=1.0.4->ipython->keras-tuner>=1.1.0->autokeras) (0.2.5)\n",
            "Requirement already satisfied: pyparsing!=3.0.5,>=2.0.2 in /usr/local/lib/python3.7/dist-packages (from packaging->autokeras) (3.0.9)\n",
            "Requirement already satisfied: pytz>=2017.3 in /usr/local/lib/python3.7/dist-packages (from pandas->autokeras) (2022.1)\n",
            "Requirement already satisfied: python-dateutil>=2.7.3 in /usr/local/lib/python3.7/dist-packages (from pandas->autokeras) (2.8.2)\n",
            "Requirement already satisfied: ptyprocess>=0.5 in /usr/local/lib/python3.7/dist-packages (from pexpect->ipython->keras-tuner>=1.1.0->autokeras) (0.7.0)\n",
            "Installing collected packages: kt-legacy, keras-tuner, autokeras\n",
            "  Attempting uninstall: keras-tuner\n",
            "    Found existing installation: keras-tuner 1.0.2rc1\n",
            "    Uninstalling keras-tuner-1.0.2rc1:\n",
            "      Successfully uninstalled keras-tuner-1.0.2rc1\n",
            "Successfully installed autokeras-1.0.19 keras-tuner-1.1.2 kt-legacy-1.0.4\n"
          ]
        }
      ]
    },
    {
      "cell_type": "code",
      "metadata": {
        "id": "f1f5b02a",
        "colab": {
          "base_uri": "https://localhost:8080/"
        },
        "outputId": "bf952682-9195-4c8d-adb2-2423d7c066ef"
      },
      "source": [
        "!pip show autokeras"
      ],
      "id": "f1f5b02a",
      "execution_count": 30,
      "outputs": [
        {
          "output_type": "stream",
          "name": "stdout",
          "text": [
            "Name: autokeras\n",
            "Version: 1.0.19\n",
            "Summary: AutoML for deep learning\n",
            "Home-page: http://autokeras.com\n",
            "Author: DATA Lab, Keras Team\n",
            "Author-email: jhfjhfj1@gmail.com\n",
            "License: Apache License 2.0\n",
            "Location: /usr/local/lib/python3.7/dist-packages\n",
            "Requires: pandas, keras-tuner, tensorflow, packaging\n",
            "Required-by: \n"
          ]
        }
      ]
    },
    {
      "cell_type": "code",
      "metadata": {
        "id": "a134e40c"
      },
      "source": [
        "import numpy as np\n",
        "import pandas as pd\n",
        "import tensorflow as tf\n",
        "\n",
        "\n",
        "import autokeras as ak"
      ],
      "id": "a134e40c",
      "execution_count": 31,
      "outputs": []
    },
    {
      "cell_type": "code",
      "metadata": {
        "id": "UzxCw7TOi1yk"
      },
      "source": [
        "reg = ak.StructuredDataRegressor(\n",
        "    overwrite=True, max_trials=3\n",
        ")"
      ],
      "id": "UzxCw7TOi1yk",
      "execution_count": 32,
      "outputs": []
    },
    {
      "cell_type": "code",
      "metadata": {
        "id": "3gi5oSAqi4gB",
        "colab": {
          "base_uri": "https://localhost:8080/"
        },
        "outputId": "9d08227b-ca46-49a6-a91a-2ef410a398e6"
      },
      "source": [
        "reg.fit(x=x_train, y=y_train, verbose=0)"
      ],
      "id": "3gi5oSAqi4gB",
      "execution_count": 33,
      "outputs": [
        {
          "output_type": "stream",
          "name": "stdout",
          "text": [
            "INFO:tensorflow:Oracle triggered exit\n",
            "21/21 [==============================] - 1s 2ms/step - loss: 1478.7209 - mean_squared_error: 1478.7209\n",
            "INFO:tensorflow:Assets written to: ./structured_data_regressor/best_model/assets\n"
          ]
        },
        {
          "output_type": "execute_result",
          "data": {
            "text/plain": [
              "<keras.callbacks.History at 0x7f32cc5a5ad0>"
            ]
          },
          "metadata": {},
          "execution_count": 33
        }
      ]
    },
    {
      "cell_type": "code",
      "metadata": {
        "id": "k4w9lOnVjIW3",
        "colab": {
          "base_uri": "https://localhost:8080/"
        },
        "outputId": "cc11d40a-e60f-4d51-806c-f9e153dfcc6c"
      },
      "source": [
        "# evaluate the model\n",
        "mae, _  = reg.evaluate(x_test, y_test, verbose=0)\n",
        "#print('MAE: %.3f' % mae)\n",
        "# use the model to make a prediction\n",
        "yhat_test = reg.predict(x_test)\n",
        "\n",
        "# get the best performing model\n",
        "model = reg.export_model()\n"
      ],
      "id": "k4w9lOnVjIW3",
      "execution_count": 34,
      "outputs": [
        {
          "output_type": "stream",
          "name": "stdout",
          "text": [
            "9/9 [==============================] - 0s 2ms/step\n"
          ]
        }
      ]
    },
    {
      "cell_type": "code",
      "metadata": {
        "id": "xCHAvukVkscT",
        "colab": {
          "base_uri": "https://localhost:8080/"
        },
        "outputId": "697c0869-01ef-47c1-e709-a967bc52ad21"
      },
      "source": [
        "# summarize the loaded model\n",
        "model.summary()"
      ],
      "id": "xCHAvukVkscT",
      "execution_count": 35,
      "outputs": [
        {
          "output_type": "stream",
          "name": "stdout",
          "text": [
            "Model: \"model\"\n",
            "_________________________________________________________________\n",
            " Layer (type)                Output Shape              Param #   \n",
            "=================================================================\n",
            " input_1 (InputLayer)        [(None, 5)]               0         \n",
            "                                                                 \n",
            " multi_category_encoding (Mu  (None, 5)                0         \n",
            " ltiCategoryEncoding)                                            \n",
            "                                                                 \n",
            " normalization (Normalizatio  (None, 5)                11        \n",
            " n)                                                              \n",
            "                                                                 \n",
            " dense (Dense)               (None, 32)                192       \n",
            "                                                                 \n",
            " re_lu (ReLU)                (None, 32)                0         \n",
            "                                                                 \n",
            " dense_1 (Dense)             (None, 128)               4224      \n",
            "                                                                 \n",
            " re_lu_1 (ReLU)              (None, 128)               0         \n",
            "                                                                 \n",
            " regression_head_1 (Dense)   (None, 1)                 129       \n",
            "                                                                 \n",
            "=================================================================\n",
            "Total params: 4,556\n",
            "Trainable params: 4,545\n",
            "Non-trainable params: 11\n",
            "_________________________________________________________________\n"
          ]
        }
      ]
    },
    {
      "cell_type": "code",
      "metadata": {
        "id": "NbAZEp3XlEls",
        "colab": {
          "base_uri": "https://localhost:8080/"
        },
        "outputId": "ad114934-de75-4bf6-adda-92fbd6566b3f"
      },
      "source": [
        "yhat_test"
      ],
      "id": "NbAZEp3XlEls",
      "execution_count": 36,
      "outputs": [
        {
          "output_type": "execute_result",
          "data": {
            "text/plain": [
              "array([[2.1375387 ],\n",
              "       [2.282432  ],\n",
              "       [1.158879  ],\n",
              "       [1.0647535 ],\n",
              "       [1.0235852 ],\n",
              "       [1.3973529 ],\n",
              "       [1.0421253 ],\n",
              "       [0.89949465],\n",
              "       [1.1585371 ],\n",
              "       [2.4626539 ],\n",
              "       [1.30272   ],\n",
              "       [0.9363172 ],\n",
              "       [1.1910667 ],\n",
              "       [1.8746781 ],\n",
              "       [2.2008467 ],\n",
              "       [0.7776661 ],\n",
              "       [2.8649127 ],\n",
              "       [1.236437  ],\n",
              "       [1.3043046 ],\n",
              "       [2.4086308 ],\n",
              "       [1.5625911 ],\n",
              "       [0.8930706 ],\n",
              "       [1.7880008 ],\n",
              "       [1.5351338 ],\n",
              "       [0.91038674],\n",
              "       [1.8971698 ],\n",
              "       [2.0518785 ],\n",
              "       [2.0602195 ],\n",
              "       [2.2439208 ],\n",
              "       [1.5329614 ],\n",
              "       [1.1559428 ],\n",
              "       [1.8755887 ],\n",
              "       [2.490258  ],\n",
              "       [2.1064954 ],\n",
              "       [1.0494444 ],\n",
              "       [2.2948139 ],\n",
              "       [1.8588916 ],\n",
              "       [2.1422236 ],\n",
              "       [1.9182255 ],\n",
              "       [1.0538099 ],\n",
              "       [1.5312513 ],\n",
              "       [1.0473812 ],\n",
              "       [2.0351088 ],\n",
              "       [1.0313592 ],\n",
              "       [1.4339092 ],\n",
              "       [2.456085  ],\n",
              "       [1.5566375 ],\n",
              "       [0.7234405 ],\n",
              "       [1.21013   ],\n",
              "       [1.3278182 ],\n",
              "       [2.1690247 ],\n",
              "       [2.1253428 ],\n",
              "       [2.4783986 ],\n",
              "       [1.8564208 ],\n",
              "       [2.1969998 ],\n",
              "       [1.5351338 ],\n",
              "       [2.1713479 ],\n",
              "       [1.8310206 ],\n",
              "       [1.9170789 ],\n",
              "       [1.6297293 ],\n",
              "       [0.9872082 ],\n",
              "       [1.907531  ],\n",
              "       [2.0514703 ],\n",
              "       [1.6105924 ],\n",
              "       [0.97584593],\n",
              "       [1.1910667 ],\n",
              "       [0.86558247],\n",
              "       [0.9763707 ],\n",
              "       [0.9323847 ],\n",
              "       [2.6221101 ],\n",
              "       [1.098014  ],\n",
              "       [1.9462833 ],\n",
              "       [1.0118787 ],\n",
              "       [1.9007993 ],\n",
              "       [1.6591907 ],\n",
              "       [0.91005015],\n",
              "       [2.1334066 ],\n",
              "       [1.1378552 ],\n",
              "       [1.1559428 ],\n",
              "       [1.6432166 ],\n",
              "       [1.9134985 ],\n",
              "       [1.0344309 ],\n",
              "       [1.5455474 ],\n",
              "       [2.022729  ],\n",
              "       [1.6900262 ],\n",
              "       [1.5935224 ],\n",
              "       [1.4820541 ],\n",
              "       [1.210849  ],\n",
              "       [1.3358762 ],\n",
              "       [0.87899315],\n",
              "       [1.6388792 ],\n",
              "       [2.1445944 ],\n",
              "       [1.4857125 ],\n",
              "       [1.3973113 ],\n",
              "       [1.1856052 ],\n",
              "       [0.80235577],\n",
              "       [1.469377  ],\n",
              "       [0.8094423 ],\n",
              "       [1.2981352 ],\n",
              "       [0.9086697 ],\n",
              "       [0.9008334 ],\n",
              "       [1.2515776 ],\n",
              "       [1.990017  ],\n",
              "       [1.6033822 ],\n",
              "       [2.3078554 ],\n",
              "       [1.5773005 ],\n",
              "       [1.6559259 ],\n",
              "       [2.5590532 ],\n",
              "       [0.79486805],\n",
              "       [1.0405006 ],\n",
              "       [0.9961666 ],\n",
              "       [1.308825  ],\n",
              "       [2.1034052 ],\n",
              "       [0.8200356 ],\n",
              "       [1.5566552 ],\n",
              "       [0.9755971 ],\n",
              "       [1.8154662 ],\n",
              "       [1.7757046 ],\n",
              "       [1.961719  ],\n",
              "       [1.2149138 ],\n",
              "       [1.4222146 ],\n",
              "       [1.1526812 ],\n",
              "       [1.0837796 ],\n",
              "       [1.7910922 ],\n",
              "       [2.0082917 ],\n",
              "       [0.8978217 ],\n",
              "       [1.6434667 ],\n",
              "       [1.2425287 ],\n",
              "       [0.9457798 ],\n",
              "       [0.66405654],\n",
              "       [1.6560801 ],\n",
              "       [1.9066066 ],\n",
              "       [1.075552  ],\n",
              "       [1.8623934 ],\n",
              "       [0.89143157],\n",
              "       [1.0812309 ],\n",
              "       [1.1839557 ],\n",
              "       [2.14964   ],\n",
              "       [0.9725779 ],\n",
              "       [2.3160474 ],\n",
              "       [0.8491826 ],\n",
              "       [1.7773346 ],\n",
              "       [1.1411226 ],\n",
              "       [1.5238777 ],\n",
              "       [0.8930706 ],\n",
              "       [2.1387532 ],\n",
              "       [2.6493704 ],\n",
              "       [2.4918141 ],\n",
              "       [1.8363731 ],\n",
              "       [0.9470601 ],\n",
              "       [1.011542  ],\n",
              "       [1.4552236 ],\n",
              "       [1.3863397 ],\n",
              "       [1.6385012 ],\n",
              "       [1.9975746 ],\n",
              "       [1.2977905 ],\n",
              "       [1.9317414 ],\n",
              "       [0.8352869 ],\n",
              "       [0.87821037],\n",
              "       [2.1256511 ],\n",
              "       [1.3895953 ],\n",
              "       [1.6377773 ],\n",
              "       [0.9481044 ],\n",
              "       [1.1668057 ],\n",
              "       [2.105074  ],\n",
              "       [1.1910667 ],\n",
              "       [1.8157347 ],\n",
              "       [1.9217961 ],\n",
              "       [1.1153548 ],\n",
              "       [1.050437  ],\n",
              "       [1.462527  ],\n",
              "       [1.9128789 ],\n",
              "       [1.6729636 ],\n",
              "       [2.1926818 ],\n",
              "       [1.691672  ],\n",
              "       [1.876349  ],\n",
              "       [1.3396466 ],\n",
              "       [1.5408552 ],\n",
              "       [1.9226909 ],\n",
              "       [1.8545588 ],\n",
              "       [2.9017074 ],\n",
              "       [0.91887414],\n",
              "       [1.9883146 ],\n",
              "       [1.9891347 ],\n",
              "       [1.7664335 ],\n",
              "       [1.0962565 ],\n",
              "       [2.1292226 ],\n",
              "       [2.326402  ],\n",
              "       [0.8746173 ],\n",
              "       [2.8098567 ],\n",
              "       [2.1137025 ],\n",
              "       [1.7444724 ],\n",
              "       [1.5425376 ],\n",
              "       [1.2445922 ],\n",
              "       [1.1315999 ],\n",
              "       [0.6549474 ],\n",
              "       [1.5756348 ],\n",
              "       [1.9212205 ],\n",
              "       [2.3831758 ],\n",
              "       [1.6236279 ],\n",
              "       [1.348155  ],\n",
              "       [2.3422756 ],\n",
              "       [2.0453608 ],\n",
              "       [2.2846994 ],\n",
              "       [1.3043046 ],\n",
              "       [1.6297634 ],\n",
              "       [1.1013758 ],\n",
              "       [0.8415292 ],\n",
              "       [1.531518  ],\n",
              "       [2.147617  ],\n",
              "       [1.9938166 ],\n",
              "       [0.9167464 ],\n",
              "       [0.9660406 ],\n",
              "       [2.0483925 ],\n",
              "       [0.876137  ],\n",
              "       [0.9946036 ],\n",
              "       [0.9668174 ],\n",
              "       [1.718544  ],\n",
              "       [2.274773  ],\n",
              "       [1.7469988 ],\n",
              "       [2.3026724 ],\n",
              "       [1.9018333 ],\n",
              "       [2.1844351 ],\n",
              "       [1.8984874 ],\n",
              "       [2.0526052 ],\n",
              "       [1.4339092 ],\n",
              "       [2.1313326 ],\n",
              "       [0.8746173 ],\n",
              "       [1.8855301 ],\n",
              "       [2.09219   ],\n",
              "       [1.4062028 ],\n",
              "       [1.3211287 ],\n",
              "       [1.8000085 ],\n",
              "       [0.89143157],\n",
              "       [1.7757143 ],\n",
              "       [1.6712753 ],\n",
              "       [1.4484495 ],\n",
              "       [0.883188  ],\n",
              "       [1.2283182 ],\n",
              "       [1.5686274 ],\n",
              "       [0.97655106],\n",
              "       [1.8125771 ],\n",
              "       [1.7541589 ],\n",
              "       [3.2547152 ],\n",
              "       [1.6667411 ],\n",
              "       [2.5376847 ],\n",
              "       [1.0313592 ],\n",
              "       [1.8995986 ],\n",
              "       [1.6609037 ],\n",
              "       [1.0956413 ],\n",
              "       [2.648328  ],\n",
              "       [1.7098192 ],\n",
              "       [2.119614  ],\n",
              "       [2.044554  ],\n",
              "       [2.403224  ],\n",
              "       [0.7925833 ],\n",
              "       [1.0719705 ],\n",
              "       [1.1921656 ],\n",
              "       [0.87964183],\n",
              "       [1.2285278 ],\n",
              "       [2.2066863 ],\n",
              "       [1.1091423 ],\n",
              "       [2.385821  ],\n",
              "       [1.3251939 ],\n",
              "       [1.1484835 ],\n",
              "       [1.2064688 ],\n",
              "       [2.4120471 ],\n",
              "       [1.3215606 ],\n",
              "       [1.9045247 ],\n",
              "       [1.7025772 ],\n",
              "       [1.3783712 ],\n",
              "       [1.5504797 ],\n",
              "       [1.1013758 ],\n",
              "       [2.0654604 ],\n",
              "       [1.0280932 ],\n",
              "       [0.89044   ],\n",
              "       [1.7224817 ],\n",
              "       [0.97569275],\n",
              "       [1.0424961 ],\n",
              "       [2.064997  ],\n",
              "       [0.8415292 ],\n",
              "       [3.1973119 ],\n",
              "       [1.3242084 ],\n",
              "       [2.101527  ],\n",
              "       [1.0251019 ],\n",
              "       [1.1552145 ]], dtype=float32)"
            ]
          },
          "metadata": {},
          "execution_count": 36
        }
      ]
    },
    {
      "cell_type": "code",
      "metadata": {
        "id": "rCreVYY-lI8h",
        "colab": {
          "base_uri": "https://localhost:8080/"
        },
        "outputId": "aadcf94d-9c21-4909-e13d-8a294ca9e66c"
      },
      "source": [
        "y_test"
      ],
      "id": "rCreVYY-lI8h",
      "execution_count": 37,
      "outputs": [
        {
          "output_type": "execute_result",
          "data": {
            "text/plain": [
              "248    44.30\n",
              "469    44.28\n",
              "757    18.13\n",
              "826    24.39\n",
              "557    17.24\n",
              "       ...  \n",
              "862    35.23\n",
              "513    40.29\n",
              "939    32.72\n",
              "454    39.64\n",
              "277    36.97\n",
              "Name: concrete_compressive_strength, Length: 286, dtype: float64"
            ]
          },
          "metadata": {},
          "execution_count": 37
        }
      ]
    }
  ]
}